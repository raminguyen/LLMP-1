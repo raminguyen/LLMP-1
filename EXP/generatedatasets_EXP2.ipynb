{
 "cells": [
  {
   "cell_type": "code",
   "execution_count": 2,
   "id": "f3f5bd9a-26ab-440c-b83c-d329f00d717c",
   "metadata": {},
   "outputs": [
    {
     "name": "stdout",
     "output_type": "stream",
     "text": [
      "Generating images and dataset for task: pie\n",
      "Generating images and dataset for task: bar\n",
      "Images saved in 'finetuning-EXP2-5000-5epochs/images' and combined dataset saved as 'combined_dataset.json' in 'finetuning-EXP2-5000-5epochs/json'\n"
     ]
    }
   ],
   "source": [
    "# Standard library imports\n",
    "import os\n",
    "import sys\n",
    "import json\n",
    "import uuid\n",
    "\n",
    "# Third-party imports\n",
    "import numpy as np\n",
    "import matplotlib.pyplot as plt\n",
    "from PIL import Image\n",
    "import skimage.draw\n",
    "\n",
    "# Custom module import\n",
    "sys.path.append(\"../\")  # Add parent directory to Python path\n",
    "import LLMP as L\n",
    "\n",
    "# ------------------- Configuration -------------------\n",
    "\n",
    "# Main output directory\n",
    "main_output_dir = \"finetuning-EXP2-5000-5epochs\"\n",
    "\n",
    "# Subdirectories for images and JSON files\n",
    "image_output_dir = os.path.join(main_output_dir, \"images\")\n",
    "json_output_dir = os.path.join(main_output_dir, \"json\")\n",
    "\n",
    "# Create directories if they don't exist\n",
    "os.makedirs(image_output_dir, exist_ok=True)\n",
    "os.makedirs(json_output_dir, exist_ok=True)\n",
    "\n",
    "tasks = {\n",
    "    \"pie\": (\n",
    "        \"First, make a list of five values where each value is between 3 and 39, and all values add up to 100. \"\n",
    "        \"Next, divide each value in the list by the largest value, so the largest becomes 1.0. \"\n",
    "        \"Place the largest value (1.0) as the first item in the list. \"\n",
    "        \"Then, arrange the other values by going counter-clockwise around the pie starting from the slice marked 1.0. \"\n",
    "        \"Format the answer as [1.0, 0.00, 0.00, 0.00, 0.0], where each number is the normalized percentage of each slice. No explanation needed.\"\n",
    "    ),\n",
    "    \n",
    "    \"bar\": (\n",
    "        \"First, make a list of five values where each value is between 3 and 39, and all values add up to 100. \"\n",
    "        \"Next, divide each value in the list by the largest value, so the largest becomes 1.0. \"\n",
    "        \"Place the largest value (1.0) as the first item in the list. \"\n",
    "        \"Then, arrange the other values by moving left to right along the bar chart starting from the bar marked 1.0. \"\n",
    "        \"Format the answer as [1.0, 0.00, 0.00, 0.00, 0.0], where each number is the normalized percentage of each bar. No explanation needed.\"\n",
    "    )\n",
    "}\n",
    "\n",
    "# Number of images to generate for each task\n",
    "num_images_per_task = 5000\n",
    "\n",
    "# List to store all data from all tasks\n",
    "combined_dataset = []\n",
    "\n",
    "# Loop through each task\n",
    "for task, question in tasks.items():\n",
    "    print(f\"Generating images and dataset for task: {task}\")\n",
    "    \n",
    "    # Set up a loop to generate images and collect their labels\n",
    "    for i in range(num_images_per_task):\n",
    "        # Generate the image and label for the task using GPImage\n",
    "        image_array, label = L.GPImage.figure3(task)  # Ensure GPImage is defined or imported\n",
    "\n",
    "        # Convert labels to Python-native floats for JSON compatibility\n",
    "        label = [round(float(val), 2) for val in label]\n",
    "        \n",
    "        # Convert the array to uint8 format (values from 0 to 255) for saving as an image\n",
    "        image_array_uint8 = (image_array * 255).astype(np.uint8)\n",
    "\n",
    "        # Convert the NumPy array to a PIL image\n",
    "        pil_image = Image.fromarray(image_array_uint8)\n",
    "\n",
    "        # Generate a unique ID for the image\n",
    "        unique_id = str(uuid.uuid4())\n",
    "\n",
    "        # Save the image with the unique ID\n",
    "        image_filename = os.path.join(image_output_dir, f\"{unique_id}.jpg\")\n",
    "        pil_image.save(image_filename)\n",
    "\n",
    "        # Create a JSON entry for the dataset\n",
    "        json_entry = {\n",
    "            'id': unique_id,\n",
    "            'image': f\"{unique_id}.jpg\",\n",
    "            'question': question,\n",
    "            'value': label  # Normalized label values as native Python floats\n",
    "        }\n",
    "\n",
    "        # Append the JSON entry to the combined dataset list\n",
    "        combined_dataset.append(json_entry)\n",
    "\n",
    "# Save the combined dataset as a single JSON file in the JSON folder\n",
    "combined_json_filename = \"combined_dataset.json\"\n",
    "combined_json_filepath = os.path.join(json_output_dir, combined_json_filename)\n",
    "\n",
    "with open(combined_json_filepath, 'w') as json_file:\n",
    "    json.dump(combined_dataset, json_file, indent=4)\n",
    "\n",
    "print(f\"Images saved in '{image_output_dir}' and combined dataset saved as '{combined_json_filename}' in '{json_output_dir}'\")\n"
   ]
  },
  {
   "cell_type": "code",
   "execution_count": 5,
   "id": "f33c67dc",
   "metadata": {},
   "outputs": [
    {
     "name": "stdout",
     "output_type": "stream",
     "text": [
      "Requirement already satisfied: numpy==1.26.4 in /home/huuthanhvy.nguyen001/anaconda3/envs/sbatch2/lib/python3.10/site-packages (1.26.4)\n"
     ]
    }
   ],
   "source": [
    "!pip install numpy==1.26.4\n"
   ]
  }
 ],
 "metadata": {
  "kernelspec": {
   "display_name": "sbatch2",
   "language": "python",
   "name": "python3"
  },
  "language_info": {
   "codemirror_mode": {
    "name": "ipython",
    "version": 3
   },
   "file_extension": ".py",
   "mimetype": "text/x-python",
   "name": "python",
   "nbconvert_exporter": "python",
   "pygments_lexer": "ipython3",
   "version": "3.10.13"
  }
 },
 "nbformat": 4,
 "nbformat_minor": 5
}
